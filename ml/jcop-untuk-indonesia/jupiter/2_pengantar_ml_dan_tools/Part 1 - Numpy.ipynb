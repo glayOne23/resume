{
 "cells": [
  {
   "cell_type": "markdown",
   "id": "92a577f1",
   "metadata": {},
   "source": [
    "# Numpy (Numerical Python) (Python untuk perhitungan numerik)"
   ]
  },
  {
   "cell_type": "code",
   "execution_count": 1,
   "id": "6eb25fec",
   "metadata": {},
   "outputs": [],
   "source": [
    "import numpy as np"
   ]
  },
  {
   "cell_type": "code",
   "execution_count": 2,
   "id": "349e5e9b",
   "metadata": {},
   "outputs": [],
   "source": [
    "a = np.array([1,2,3]) # matriks"
   ]
  },
  {
   "cell_type": "code",
   "execution_count": 3,
   "id": "b748b04e",
   "metadata": {},
   "outputs": [
    {
     "data": {
      "text/plain": [
       "array([3, 6, 9])"
      ]
     },
     "execution_count": 3,
     "metadata": {},
     "output_type": "execute_result"
    }
   ],
   "source": [
    "a * 3"
   ]
  },
  {
   "cell_type": "markdown",
   "id": "f083d3e6",
   "metadata": {},
   "source": [
    "# Math Function"
   ]
  },
  {
   "cell_type": "code",
   "execution_count": 4,
   "id": "a5fe2e66",
   "metadata": {},
   "outputs": [
    {
     "data": {
      "text/plain": [
       "6"
      ]
     },
     "execution_count": 4,
     "metadata": {},
     "output_type": "execute_result"
    }
   ],
   "source": [
    "np.sum(a) # jumlah yang ada pada matriks"
   ]
  },
  {
   "cell_type": "code",
   "execution_count": 5,
   "id": "8ce245de",
   "metadata": {},
   "outputs": [
    {
     "data": {
      "text/plain": [
       "2.0"
      ]
     },
     "execution_count": 5,
     "metadata": {},
     "output_type": "execute_result"
    }
   ],
   "source": [
    "np.mean(a) # rata2 matriks"
   ]
  },
  {
   "cell_type": "code",
   "execution_count": 6,
   "id": "2ab3f5ea",
   "metadata": {},
   "outputs": [
    {
     "data": {
      "text/plain": [
       "0.816496580927726"
      ]
     },
     "execution_count": 6,
     "metadata": {},
     "output_type": "execute_result"
    }
   ],
   "source": [
    "np.std(a) # standar deviasi"
   ]
  },
  {
   "cell_type": "code",
   "execution_count": 7,
   "id": "2553aa60",
   "metadata": {},
   "outputs": [
    {
     "data": {
      "text/plain": [
       "array([0.84147098, 0.90929743, 0.14112001])"
      ]
     },
     "execution_count": 7,
     "metadata": {},
     "output_type": "execute_result"
    }
   ],
   "source": [
    "np.sin(a) # fungsi trigonometri"
   ]
  },
  {
   "cell_type": "markdown",
   "id": "5dc0a892",
   "metadata": {},
   "source": [
    "# arange, linspace, logspace"
   ]
  },
  {
   "cell_type": "code",
   "execution_count": 8,
   "id": "3d337857",
   "metadata": {},
   "outputs": [
    {
     "data": {
      "text/plain": [
       "array([0, 1, 2, 3, 4])"
      ]
     },
     "execution_count": 8,
     "metadata": {},
     "output_type": "execute_result"
    }
   ],
   "source": [
    "np.arange(0, 5) # range dalam bentuk matriks np.arange(awal, batas akhir, interval)"
   ]
  },
  {
   "cell_type": "code",
   "execution_count": 9,
   "id": "0a50b567",
   "metadata": {},
   "outputs": [
    {
     "data": {
      "text/plain": [
       "array([ 0.,  5., 10.])"
      ]
     },
     "execution_count": 9,
     "metadata": {},
     "output_type": "execute_result"
    }
   ],
   "source": [
    "np.linspace(0, 10, 3) # range dari 1 sampai 10 dipecah menjadi 3 unit"
   ]
  },
  {
   "cell_type": "code",
   "execution_count": 10,
   "id": "39578726",
   "metadata": {},
   "outputs": [
    {
     "data": {
      "text/plain": [
       "array([  1000., 100000.])"
      ]
     },
     "execution_count": 10,
     "metadata": {},
     "output_type": "execute_result"
    }
   ],
   "source": [
    "np.logspace(3, 5, 2)"
   ]
  },
  {
   "cell_type": "markdown",
   "id": "b370bc06",
   "metadata": {},
   "source": [
    "# Random"
   ]
  },
  {
   "cell_type": "code",
   "execution_count": 11,
   "id": "62892fb0",
   "metadata": {},
   "outputs": [
    {
     "data": {
      "text/plain": [
       "0.9306471710831131"
      ]
     },
     "execution_count": 11,
     "metadata": {},
     "output_type": "execute_result"
    }
   ],
   "source": [
    "np.random.rand()"
   ]
  },
  {
   "cell_type": "code",
   "execution_count": 12,
   "id": "e9afcca6",
   "metadata": {},
   "outputs": [
    {
     "data": {
      "text/plain": [
       "array([0.92697157, 0.793804  , 0.22940189])"
      ]
     },
     "execution_count": 12,
     "metadata": {},
     "output_type": "execute_result"
    }
   ],
   "source": [
    "np.random.rand(3)"
   ]
  },
  {
   "cell_type": "code",
   "execution_count": 13,
   "id": "a56d6cd6",
   "metadata": {},
   "outputs": [
    {
     "data": {
      "text/plain": [
       "array([[0.99714156, 0.66524772],\n",
       "       [0.13459703, 0.14695985],\n",
       "       [0.61959871, 0.22111548]])"
      ]
     },
     "execution_count": 13,
     "metadata": {},
     "output_type": "execute_result"
    }
   ],
   "source": [
    "np.random.rand(3,2)"
   ]
  },
  {
   "cell_type": "markdown",
   "id": "50c1d154",
   "metadata": {},
   "source": [
    "# Controlled Randomness (Pengacakan yang diatur)"
   ]
  },
  {
   "cell_type": "code",
   "execution_count": 14,
   "id": "05178c68",
   "metadata": {},
   "outputs": [
    {
     "data": {
      "text/plain": [
       "array([0.37454012, 0.95071431, 0.73199394])"
      ]
     },
     "execution_count": 14,
     "metadata": {},
     "output_type": "execute_result"
    }
   ],
   "source": [
    "state = np.random.RandomState(42) # 42 itu parameter, selama parameternya sama, maka randomnya akan sama\n",
    "state.rand(3)"
   ]
  }
 ],
 "metadata": {
  "kernelspec": {
   "display_name": "Python [conda env:jcopml] *",
   "language": "python",
   "name": "conda-env-jcopml-py"
  },
  "language_info": {
   "codemirror_mode": {
    "name": "ipython",
    "version": 3
   },
   "file_extension": ".py",
   "mimetype": "text/x-python",
   "name": "python",
   "nbconvert_exporter": "python",
   "pygments_lexer": "ipython3",
   "version": "3.10.2"
  }
 },
 "nbformat": 4,
 "nbformat_minor": 5
}
